{
  "nbformat": 4,
  "nbformat_minor": 0,
  "metadata": {
    "colab": {
      "provenance": [],
      "authorship_tag": "ABX9TyP39Kp1dConbXkfumoJQRgs",
      "include_colab_link": true
    },
    "kernelspec": {
      "name": "python3",
      "display_name": "Python 3"
    },
    "language_info": {
      "name": "python"
    }
  },
  "cells": [
    {
      "cell_type": "markdown",
      "metadata": {
        "id": "view-in-github",
        "colab_type": "text"
      },
      "source": [
        "<a href=\"https://colab.research.google.com/github/alibekk93/soccer_fun_stuff/blob/main/FBRef_data.ipynb\" target=\"_parent\"><img src=\"https://colab.research.google.com/assets/colab-badge.svg\" alt=\"Open In Colab\"/></a>"
      ]
    },
    {
      "cell_type": "markdown",
      "source": [
        "# FBRef data getter\n",
        "https://fbref.com/en/"
      ],
      "metadata": {
        "id": "AufOHVd3IOeq"
      }
    },
    {
      "cell_type": "markdown",
      "source": [
        "## Setup"
      ],
      "metadata": {
        "id": "a2P-uINMI1RT"
      }
    },
    {
      "cell_type": "code",
      "source": [
        "!pip install requests_html"
      ],
      "metadata": {
        "id": "6Y9rvCHsIyIa",
        "outputId": "97298202-b169-4ade-b85c-444112c59c46",
        "colab": {
          "base_uri": "https://localhost:8080/"
        }
      },
      "execution_count": 1,
      "outputs": [
        {
          "output_type": "stream",
          "name": "stdout",
          "text": [
            "Collecting requests_html\n",
            "  Downloading requests_html-0.10.0-py3-none-any.whl (13 kB)\n",
            "Requirement already satisfied: requests in /usr/local/lib/python3.10/dist-packages (from requests_html) (2.31.0)\n",
            "Collecting pyquery (from requests_html)\n",
            "  Downloading pyquery-2.0.0-py3-none-any.whl (22 kB)\n",
            "Collecting fake-useragent (from requests_html)\n",
            "  Downloading fake_useragent-1.3.0-py3-none-any.whl (15 kB)\n",
            "Collecting parse (from requests_html)\n",
            "  Downloading parse-1.19.1-py2.py3-none-any.whl (18 kB)\n",
            "Collecting bs4 (from requests_html)\n",
            "  Downloading bs4-0.0.1.tar.gz (1.1 kB)\n",
            "  Preparing metadata (setup.py) ... \u001b[?25l\u001b[?25hdone\n",
            "Collecting w3lib (from requests_html)\n",
            "  Downloading w3lib-2.1.2-py3-none-any.whl (21 kB)\n",
            "Collecting pyppeteer>=0.0.14 (from requests_html)\n",
            "  Downloading pyppeteer-1.0.2-py3-none-any.whl (83 kB)\n",
            "\u001b[2K     \u001b[90m━━━━━━━━━━━━━━━━━━━━━━━━━━━━━━━━━━━━━━━━\u001b[0m \u001b[32m83.4/83.4 kB\u001b[0m \u001b[31m5.6 MB/s\u001b[0m eta \u001b[36m0:00:00\u001b[0m\n",
            "\u001b[?25hRequirement already satisfied: appdirs<2.0.0,>=1.4.3 in /usr/local/lib/python3.10/dist-packages (from pyppeteer>=0.0.14->requests_html) (1.4.4)\n",
            "Requirement already satisfied: certifi>=2021 in /usr/local/lib/python3.10/dist-packages (from pyppeteer>=0.0.14->requests_html) (2023.7.22)\n",
            "Requirement already satisfied: importlib-metadata>=1.4 in /usr/local/lib/python3.10/dist-packages (from pyppeteer>=0.0.14->requests_html) (6.8.0)\n",
            "Collecting pyee<9.0.0,>=8.1.0 (from pyppeteer>=0.0.14->requests_html)\n",
            "  Downloading pyee-8.2.2-py2.py3-none-any.whl (12 kB)\n",
            "Requirement already satisfied: tqdm<5.0.0,>=4.42.1 in /usr/local/lib/python3.10/dist-packages (from pyppeteer>=0.0.14->requests_html) (4.66.1)\n",
            "Collecting urllib3<2.0.0,>=1.25.8 (from pyppeteer>=0.0.14->requests_html)\n",
            "  Downloading urllib3-1.26.17-py2.py3-none-any.whl (143 kB)\n",
            "\u001b[2K     \u001b[90m━━━━━━━━━━━━━━━━━━━━━━━━━━━━━━━━━━━━━━━\u001b[0m \u001b[32m143.4/143.4 kB\u001b[0m \u001b[31m6.0 MB/s\u001b[0m eta \u001b[36m0:00:00\u001b[0m\n",
            "\u001b[?25hCollecting websockets<11.0,>=10.0 (from pyppeteer>=0.0.14->requests_html)\n",
            "  Downloading websockets-10.4-cp310-cp310-manylinux_2_5_x86_64.manylinux1_x86_64.manylinux_2_17_x86_64.manylinux2014_x86_64.whl (106 kB)\n",
            "\u001b[2K     \u001b[90m━━━━━━━━━━━━━━━━━━━━━━━━━━━━━━━━━━━━━━━\u001b[0m \u001b[32m106.8/106.8 kB\u001b[0m \u001b[31m9.8 MB/s\u001b[0m eta \u001b[36m0:00:00\u001b[0m\n",
            "\u001b[?25hRequirement already satisfied: beautifulsoup4 in /usr/local/lib/python3.10/dist-packages (from bs4->requests_html) (4.11.2)\n",
            "Requirement already satisfied: lxml>=2.1 in /usr/local/lib/python3.10/dist-packages (from pyquery->requests_html) (4.9.3)\n",
            "Collecting cssselect>=1.2.0 (from pyquery->requests_html)\n",
            "  Downloading cssselect-1.2.0-py2.py3-none-any.whl (18 kB)\n",
            "Requirement already satisfied: charset-normalizer<4,>=2 in /usr/local/lib/python3.10/dist-packages (from requests->requests_html) (3.3.0)\n",
            "Requirement already satisfied: idna<4,>=2.5 in /usr/local/lib/python3.10/dist-packages (from requests->requests_html) (3.4)\n",
            "Requirement already satisfied: zipp>=0.5 in /usr/local/lib/python3.10/dist-packages (from importlib-metadata>=1.4->pyppeteer>=0.0.14->requests_html) (3.17.0)\n",
            "Requirement already satisfied: soupsieve>1.2 in /usr/local/lib/python3.10/dist-packages (from beautifulsoup4->bs4->requests_html) (2.5)\n",
            "Building wheels for collected packages: bs4\n",
            "  Building wheel for bs4 (setup.py) ... \u001b[?25l\u001b[?25hdone\n",
            "  Created wheel for bs4: filename=bs4-0.0.1-py3-none-any.whl size=1256 sha256=fa852508777397b4b9b1af2da1179d5b3addcbcad89374abe80129ceeb150699\n",
            "  Stored in directory: /root/.cache/pip/wheels/25/42/45/b773edc52acb16cd2db4cf1a0b47117e2f69bb4eb300ed0e70\n",
            "Successfully built bs4\n",
            "Installing collected packages: pyee, parse, fake-useragent, websockets, w3lib, urllib3, cssselect, pyquery, pyppeteer, bs4, requests_html\n",
            "  Attempting uninstall: urllib3\n",
            "    Found existing installation: urllib3 2.0.6\n",
            "    Uninstalling urllib3-2.0.6:\n",
            "      Successfully uninstalled urllib3-2.0.6\n",
            "Successfully installed bs4-0.0.1 cssselect-1.2.0 fake-useragent-1.3.0 parse-1.19.1 pyee-8.2.2 pyppeteer-1.0.2 pyquery-2.0.0 requests_html-0.10.0 urllib3-1.26.17 w3lib-2.1.2 websockets-10.4\n"
          ]
        }
      ]
    },
    {
      "cell_type": "code",
      "source": [
        "import pandas as pd\n",
        "import numpy as np\n",
        "from matplotlib import pyplot as plt\n",
        "import seaborn as sns\n",
        "from tqdm import tqdm\n",
        "import requests\n",
        "from requests_html import HTMLSession\n",
        "from bs4 import BeautifulSoup"
      ],
      "metadata": {
        "id": "QrpGAYmwIdDd"
      },
      "execution_count": 82,
      "outputs": []
    },
    {
      "cell_type": "code",
      "source": [
        "session = HTMLSession()"
      ],
      "metadata": {
        "id": "YnQw1unzI-nT"
      },
      "execution_count": 91,
      "outputs": []
    },
    {
      "cell_type": "markdown",
      "source": [
        "## Summary Tables"
      ],
      "metadata": {
        "id": "YPkklf6nI42G"
      }
    },
    {
      "cell_type": "code",
      "source": [
        "def get_team_summary_table(tables:list, table_index:int=0) -> pd.DataFrame():\n",
        "  \"\"\"Parses team summary table given a list of all tables from URL\n",
        "  \"\"\"\n",
        "  table = tables[table_index]\n",
        "\n",
        "  all_headers = [th.text for th in table.find_all('th')]\n",
        "  data_headers_s = all_headers.index('Nation')\n",
        "  data_headers_e = all_headers.index('Matches')\n",
        "  table_headers = all_headers[data_headers_s:data_headers_e]\n",
        "  table_headers[-10:] = ['p90_' + th for th in table_headers[-10:]]\n",
        "  player_names = all_headers[data_headers_e+1:-2]\n",
        "  table_data = [th.text for th in table.find_all('td')]\n",
        "  table_data_cleaned = [r.tolist()[:-1] for r in np.array(table_data).reshape(-1, 33)][:-2]\n",
        "\n",
        "  summary_df = pd.DataFrame(table_data_cleaned, columns=table_headers)\n",
        "  summary_df['Player'] = player_names\n",
        "\n",
        "  summary_df = summary_df[summary_df['Min']!='']\n",
        "\n",
        "  for col in summary_df.columns:\n",
        "    try:\n",
        "      summary_df.loc[:, col] = summary_df.loc[:, col].astype(float)\n",
        "    except:\n",
        "      pass\n",
        "\n",
        "  return summary_df"
      ],
      "metadata": {
        "id": "kaWNQh_yYn6a"
      },
      "execution_count": 95,
      "outputs": []
    },
    {
      "cell_type": "code",
      "source": [
        "team_urls =   ['https://fbref.com/en/squads/b8fd03ef/2022-2023/Manchester-City-Stats',\n",
        "               'https://fbref.com/en/squads/18bb7c10/2022-2023/Arsenal-Stats',\n",
        "               'https://fbref.com/en/squads/19538871/2022-2023/Manchester-United-Stats',\n",
        "               'https://fbref.com/en/squads/b2b47a98/2022-2023/Newcastle-United-Stats',\n",
        "               'https://fbref.com/en/squads/822bd0ba/2022-2023/Liverpool-Stats',\n",
        "               'https://fbref.com/en/squads/d07537b9/2022-2023/Brighton-and-Hove-Albion-Stats',\n",
        "               'https://fbref.com/en/squads/8602292d/2022-2023/Aston-Villa-Stats',\n",
        "               'https://fbref.com/en/squads/361ca564/2022-2023/Tottenham-Hotspur-Stats',\n",
        "               'https://fbref.com/en/squads/cd051869/2022-2023/Brentford-Stats',\n",
        "               'https://fbref.com/en/squads/fd962109/2022-2023/Fulham-Stats',\n",
        "               'https://fbref.com/en/squads/47c64c55/2022-2023/Crystal-Palace-Stats',\n",
        "               'https://fbref.com/en/squads/cff3d9bb/2022-2023/Chelsea-Stats',\n",
        "               'https://fbref.com/en/squads/8cec06e1/2022-2023/Wolverhampton-Wanderers-Stats',\n",
        "               'https://fbref.com/en/squads/7c21e445/2022-2023/West-Ham-United-Stats',\n",
        "               'https://fbref.com/en/squads/4ba7cbea/2022-2023/Bournemouth-Stats',\n",
        "               'https://fbref.com/en/squads/e4a775cb/2022-2023/Nottingham-Forest-Stats',\n",
        "               'https://fbref.com/en/squads/d3fd31cc/2022-2023/Everton-Stats',\n",
        "               'https://fbref.com/en/squads/a2d435b3/2022-2023/Leicester-City-Stats',\n",
        "               'https://fbref.com/en/squads/5bfb9659/2022-2023/Leeds-United-Stats',\n",
        "               'https://fbref.com/en/squads/33c895d4/2022-2023/Southampton-Stats\n",
        "               ',]\n",
        "\n",
        "dfs = []\n",
        "\n",
        "for url in tqdm(team_urls):\n",
        "  r = session.get(url)\n",
        "  team = url.split('/')[-1][:-6]\n",
        "  soup = BeautifulSoup(r.html.raw_html)\n",
        "  tables = soup.find_all('table')\n",
        "  team_summary = get_team_summary_table(tables)\n",
        "  team_summary['Team'] = team\n",
        "  dfs.append(team_summary)\n",
        "\n",
        "summary_data = pd.concat(dfs)"
      ],
      "metadata": {
        "id": "pLNojQCu5cW3"
      },
      "execution_count": null,
      "outputs": []
    },
    {
      "cell_type": "code",
      "source": [
        "summary_data.to_csv('PL_2022_player_summary.csv', index=False)"
      ],
      "metadata": {
        "id": "UblHVewH7Jub"
      },
      "execution_count": 114,
      "outputs": []
    },
    {
      "cell_type": "code",
      "source": [
        "summary_data.groupby('Nation').sum()['Gls'].sort_values(ascending=False)"
      ],
      "metadata": {
        "id": "tHB2x5ohIOyx",
        "outputId": "1e6c2c4a-e577-4dd7-bb13-1886fc3246b6",
        "colab": {
          "base_uri": "https://localhost:8080/"
        }
      },
      "execution_count": 120,
      "outputs": [
        {
          "output_type": "stream",
          "name": "stderr",
          "text": [
            "<ipython-input-120-467e3d3e50bb>:1: FutureWarning: The default value of numeric_only in DataFrameGroupBy.sum is deprecated. In a future version, numeric_only will default to False. Either specify numeric_only or select only columns which should be valid for the function.\n",
            "  summary_data.groupby('Nation').sum()['Gls'].sort_values(ascending=False)\n"
          ]
        },
        {
          "output_type": "execute_result",
          "data": {
            "text/plain": [
              "Nation\n",
              "eng ENG    349.0\n",
              "br BRA      97.0\n",
              "no NOR      52.0\n",
              "pt POR      49.0\n",
              "ar ARG      36.0\n",
              "           ...  \n",
              "ba BIH       0.0\n",
              "ve VEN       0.0\n",
              "au AUS       0.0\n",
              "at AUT       0.0\n",
              "zw ZIM       0.0\n",
              "Name: Gls, Length: 61, dtype: float64"
            ]
          },
          "metadata": {},
          "execution_count": 120
        }
      ]
    },
    {
      "cell_type": "code",
      "execution_count": null,
      "metadata": {
        "id": "5jaRkzZ-HjrJ"
      },
      "outputs": [],
      "source": []
    }
  ]
}