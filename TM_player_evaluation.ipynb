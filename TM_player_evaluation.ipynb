{
  "nbformat": 4,
  "nbformat_minor": 0,
  "metadata": {
    "colab": {
      "provenance": [],
      "authorship_tag": "ABX9TyPNDBv5uRlJx3mzDyIQOiZy",
      "include_colab_link": true
    },
    "kernelspec": {
      "name": "python3",
      "display_name": "Python 3"
    },
    "language_info": {
      "name": "python"
    }
  },
  "cells": [
    {
      "cell_type": "markdown",
      "metadata": {
        "id": "view-in-github",
        "colab_type": "text"
      },
      "source": [
        "<a href=\"https://colab.research.google.com/github/alibekk93/soccer_fun_stuff/blob/main/TM_player_evaluation.ipynb\" target=\"_parent\"><img src=\"https://colab.research.google.com/assets/colab-badge.svg\" alt=\"Open In Colab\"/></a>"
      ]
    },
    {
      "cell_type": "markdown",
      "source": [
        "Simple evaluation of players' seasons using TransferMarkt statistics. Looking at:\n",
        "1.   player in team - minutes per season\n",
        "2.   team in league - points per game\n",
        "3.   league in world - mean player value in league (inflation adjusted)"
      ],
      "metadata": {
        "id": "THeD2xMofwfd"
      }
    },
    {
      "cell_type": "markdown",
      "source": [
        "# Setup"
      ],
      "metadata": {
        "id": "cpSAdRmX3TY7"
      }
    },
    {
      "cell_type": "markdown",
      "source": [
        "## Libraries"
      ],
      "metadata": {
        "id": "wcq0yDAbjEed"
      }
    },
    {
      "cell_type": "code",
      "source": [
        "# essential ones\n",
        "import pandas as pd\n",
        "import numpy as np\n",
        "import matplotlib.pyplot as plt\n",
        "import seaborn as sns\n",
        "from tqdm import tqdm"
      ],
      "metadata": {
        "id": "IH6JZKBb5OI6"
      },
      "execution_count": 1,
      "outputs": []
    },
    {
      "cell_type": "code",
      "source": [
        "!pip install requests_html"
      ],
      "metadata": {
        "id": "D9oyckL-rF2l",
        "colab": {
          "base_uri": "https://localhost:8080/"
        },
        "outputId": "7e349356-2614-4fe2-fc6c-106917a3389e"
      },
      "execution_count": 2,
      "outputs": [
        {
          "output_type": "stream",
          "name": "stdout",
          "text": [
            "Looking in indexes: https://pypi.org/simple, https://us-python.pkg.dev/colab-wheels/public/simple/\n",
            "Collecting requests_html\n",
            "  Downloading requests_html-0.10.0-py3-none-any.whl (13 kB)\n",
            "Collecting pyppeteer>=0.0.14\n",
            "  Downloading pyppeteer-1.0.2-py3-none-any.whl (83 kB)\n",
            "\u001b[2K     \u001b[90m━━━━━━━━━━━━━━━━━━━━━━━━━━━━━━━━━━━━━━━━\u001b[0m \u001b[32m83.4/83.4 KB\u001b[0m \u001b[31m3.0 MB/s\u001b[0m eta \u001b[36m0:00:00\u001b[0m\n",
            "\u001b[?25hCollecting pyquery\n",
            "  Downloading pyquery-2.0.0-py3-none-any.whl (22 kB)\n",
            "Requirement already satisfied: requests in /usr/local/lib/python3.8/dist-packages (from requests_html) (2.25.1)\n",
            "Requirement already satisfied: bs4 in /usr/local/lib/python3.8/dist-packages (from requests_html) (0.0.1)\n",
            "Collecting parse\n",
            "  Downloading parse-1.19.0.tar.gz (30 kB)\n",
            "  Preparing metadata (setup.py) ... \u001b[?25l\u001b[?25hdone\n",
            "Collecting w3lib\n",
            "  Downloading w3lib-2.1.1-py3-none-any.whl (21 kB)\n",
            "Collecting fake-useragent\n",
            "  Downloading fake_useragent-1.1.1-py3-none-any.whl (50 kB)\n",
            "\u001b[2K     \u001b[90m━━━━━━━━━━━━━━━━━━━━━━━━━━━━━━━━━━━━━━━━\u001b[0m \u001b[32m50.4/50.4 KB\u001b[0m \u001b[31m3.0 MB/s\u001b[0m eta \u001b[36m0:00:00\u001b[0m\n",
            "\u001b[?25hRequirement already satisfied: importlib-metadata>=1.4 in /usr/local/lib/python3.8/dist-packages (from pyppeteer>=0.0.14->requests_html) (6.0.0)\n",
            "Requirement already satisfied: certifi>=2021 in /usr/local/lib/python3.8/dist-packages (from pyppeteer>=0.0.14->requests_html) (2022.12.7)\n",
            "Collecting pyee<9.0.0,>=8.1.0\n",
            "  Downloading pyee-8.2.2-py2.py3-none-any.whl (12 kB)\n",
            "Requirement already satisfied: appdirs<2.0.0,>=1.4.3 in /usr/local/lib/python3.8/dist-packages (from pyppeteer>=0.0.14->requests_html) (1.4.4)\n",
            "Collecting urllib3<2.0.0,>=1.25.8\n",
            "  Downloading urllib3-1.26.14-py2.py3-none-any.whl (140 kB)\n",
            "\u001b[2K     \u001b[90m━━━━━━━━━━━━━━━━━━━━━━━━━━━━━━━━━━━━━━━\u001b[0m \u001b[32m140.6/140.6 KB\u001b[0m \u001b[31m5.6 MB/s\u001b[0m eta \u001b[36m0:00:00\u001b[0m\n",
            "\u001b[?25hCollecting websockets<11.0,>=10.0\n",
            "  Downloading websockets-10.4-cp38-cp38-manylinux_2_5_x86_64.manylinux1_x86_64.manylinux_2_17_x86_64.manylinux2014_x86_64.whl (106 kB)\n",
            "\u001b[2K     \u001b[90m━━━━━━━━━━━━━━━━━━━━━━━━━━━━━━━━━━━━━━━\u001b[0m \u001b[32m107.0/107.0 KB\u001b[0m \u001b[31m1.0 MB/s\u001b[0m eta \u001b[36m0:00:00\u001b[0m\n",
            "\u001b[?25hRequirement already satisfied: tqdm<5.0.0,>=4.42.1 in /usr/local/lib/python3.8/dist-packages (from pyppeteer>=0.0.14->requests_html) (4.64.1)\n",
            "Requirement already satisfied: beautifulsoup4 in /usr/local/lib/python3.8/dist-packages (from bs4->requests_html) (4.6.3)\n",
            "Requirement already satisfied: importlib-resources>=5.0 in /usr/local/lib/python3.8/dist-packages (from fake-useragent->requests_html) (5.10.2)\n",
            "Requirement already satisfied: lxml>=2.1 in /usr/local/lib/python3.8/dist-packages (from pyquery->requests_html) (4.9.2)\n",
            "Collecting cssselect>=1.2.0\n",
            "  Downloading cssselect-1.2.0-py2.py3-none-any.whl (18 kB)\n",
            "Requirement already satisfied: idna<3,>=2.5 in /usr/local/lib/python3.8/dist-packages (from requests->requests_html) (2.10)\n",
            "Requirement already satisfied: chardet<5,>=3.0.2 in /usr/local/lib/python3.8/dist-packages (from requests->requests_html) (4.0.0)\n",
            "Requirement already satisfied: zipp>=0.5 in /usr/local/lib/python3.8/dist-packages (from importlib-metadata>=1.4->pyppeteer>=0.0.14->requests_html) (3.12.0)\n",
            "Building wheels for collected packages: parse\n",
            "  Building wheel for parse (setup.py) ... \u001b[?25l\u001b[?25hdone\n",
            "  Created wheel for parse: filename=parse-1.19.0-py3-none-any.whl size=24591 sha256=270d938ddc4f09165f9ddb96711ddab61433a07f71bdf7437ce28254ac166847\n",
            "  Stored in directory: /root/.cache/pip/wheels/e5/33/1f/68392720485b3ecf125a69e700baaab7624616deedea2fa6e2\n",
            "Successfully built parse\n",
            "Installing collected packages: pyee, parse, websockets, w3lib, urllib3, cssselect, pyquery, pyppeteer, fake-useragent, requests_html\n",
            "  Attempting uninstall: urllib3\n",
            "    Found existing installation: urllib3 1.24.3\n",
            "    Uninstalling urllib3-1.24.3:\n",
            "      Successfully uninstalled urllib3-1.24.3\n",
            "Successfully installed cssselect-1.2.0 fake-useragent-1.1.1 parse-1.19.0 pyee-8.2.2 pyppeteer-1.0.2 pyquery-2.0.0 requests_html-0.10.0 urllib3-1.26.14 w3lib-2.1.1 websockets-10.4\n"
          ]
        }
      ]
    },
    {
      "cell_type": "code",
      "source": [
        "import requests\n",
        "from requests_html import HTMLSession\n",
        "from bs4 import BeautifulSoup"
      ],
      "metadata": {
        "id": "GlW4faGLoszP"
      },
      "execution_count": 3,
      "outputs": []
    },
    {
      "cell_type": "code",
      "source": [
        "session = HTMLSession()"
      ],
      "metadata": {
        "id": "9aVb4bEWoswe"
      },
      "execution_count": 4,
      "outputs": []
    },
    {
      "cell_type": "markdown",
      "source": [
        "## Functions"
      ],
      "metadata": {
        "id": "yDoTMMJKjIYV"
      }
    },
    {
      "cell_type": "code",
      "source": [
        "#@title ### simple get table function\n",
        "\n",
        "def get_TM_table(url:str, table_idx:int=0, get_links:bool=False) -> pd.DataFrame:\n",
        "  \"\"\"A simple function to get data from a table and return in a DataFrame\n",
        "  -----------\n",
        "  Parameters:\n",
        "  url (str): url of the page where the table is located\n",
        "  table_idx (int): index of the table on the page, starting from 0. Default value is 0 (first table on the page)\n",
        "  get_links (bool): whether links from table should be returned (as a list). False by default\n",
        "  \n",
        "  Returns:\n",
        "  pd.DataFrame\n",
        "\n",
        "  \"\"\"\n",
        "\n",
        "  # get html\n",
        "  r = session.get(url)\n",
        "  soup = BeautifulSoup(r.html.raw_html)\n",
        "  # find table and process data into dataframe\n",
        "  table = soup.findAll('table')[table_idx]\n",
        "  headers = [a.text for a in table.find('thead').findAll('a')]\n",
        "  data = [d.text for d in table.find('tbody').findAll('td')]\n",
        "  df = pd.DataFrame(np.array(data).reshape(-1, len(headers)), columns=headers)\n",
        "  # get links if needed\n",
        "  if get_links == True:\n",
        "    links = [a['href'] for a in table.find('tbody').findAll('a')]\n",
        "    return df, links\n",
        "  else:\n",
        "    return df"
      ],
      "metadata": {
        "id": "ywQ-A2DHjJuW",
        "cellView": "form"
      },
      "execution_count": 5,
      "outputs": []
    },
    {
      "cell_type": "code",
      "source": [
        "#@title ### make a float from a string for a value\n",
        "\n",
        "def value_str_to_float(value_str:str) -> float:\n",
        "  \"\"\"Get float value from a string\n",
        "\n",
        "  -----------\n",
        "  Parameters:\n",
        "  value_str (str): player value as a string\n",
        "\n",
        "  Returns:\n",
        "  float\n",
        "\n",
        "  \"\"\"\n",
        "\n",
        "  # find if value is thousands or millions\n",
        "  if value_str[-1] == 'k':\n",
        "    # value is in thousands, e.g. €212k\n",
        "    return float(value_str[1:-1]) * 1000\n",
        "  else:\n",
        "    # 3 value is in millions, e.g. €9.81m\n",
        "    return float(value_str[1:-1]) * 1000000"
      ],
      "metadata": {
        "cellView": "form",
        "id": "UTije2L3vJB4"
      },
      "execution_count": 75,
      "outputs": []
    },
    {
      "cell_type": "code",
      "source": [
        "#@title ### obtain mean player value for a specific season and league\n",
        "\n",
        "def league_mean_value(league_url:str, season:int) -> float:\n",
        "  \"\"\"Get mean player value from top 5 leagues for a season\n",
        "\n",
        "  -----------\n",
        "  Parameters:\n",
        "  league_url (str): league url in TransferMarkt\n",
        "  season (int): season for which to get the mean value\n",
        "\n",
        "  Returns:\n",
        "  float\n",
        "\n",
        "  \"\"\"\n",
        "\n",
        "  # make url\n",
        "  url = '{}/plus/?saison_id={}'.format(league_url, season)\n",
        "  print(url)\n",
        "  # get html\n",
        "  r = session.get(url)\n",
        "  soup = BeautifulSoup(r.html.raw_html)\n",
        "  # find mean value for the league\n",
        "  infoblock = soup.find('div', attrs={'class':'data-header__details'})\n",
        "  mean_value = [span.text.replace('\\n', '').replace(' ', '') for span in infoblock.findAll('span')][4]\n",
        "  return value_str_to_float(mean_value)"
      ],
      "metadata": {
        "id": "2lDKw_8nq71J"
      },
      "execution_count": 121,
      "outputs": []
    },
    {
      "cell_type": "code",
      "source": [
        "#@title ### obtain top5 mean player value for a specific season\n",
        "\n",
        "def top5_mean_value(season:int) -> float:\n",
        "  \"\"\"Get mean player value from top 5 leagues for a season\n",
        "\n",
        "  -----------\n",
        "  Parameters:\n",
        "  season (int): season for which to get the mean value\n",
        "\n",
        "  Returns:\n",
        "  float\n",
        "\n",
        "  \"\"\"\n",
        "\n",
        "  top_leagues_urls = ['https://www.transfermarkt.com/premier-league/startseite/wettbewerb/GB1',\n",
        "                      'https://www.transfermarkt.com/primera-division/startseite/wettbewerb/ES1',\n",
        "                      'https://www.transfermarkt.com/bundesliga/startseite/wettbewerb/L1',\n",
        "                      'https://www.transfermarkt.com/serie-a/startseite/wettbewerb/IT1',\n",
        "                      'https://www.transfermarkt.com/ligue-1/startseite/wettbewerb/FR1']\n",
        "  # set mean value to 0\n",
        "  mean_value = 0\n",
        "  # loop with getting mean values for each league\n",
        "  for url in top_leagues_urls:\n",
        "    mean_value += league_mean_value(url, season)\n",
        "    print(mean_value)\n",
        "  return mean_value / 5"
      ],
      "metadata": {
        "id": "JPpgqrxhnJeF"
      },
      "execution_count": 117,
      "outputs": []
    },
    {
      "cell_type": "code",
      "source": [
        "top5_mean_value(1990)"
      ],
      "metadata": {
        "colab": {
          "base_uri": "https://localhost:8080/"
        },
        "id": "1xokbZrC6FZL",
        "outputId": "b60e78d4-0f39-46e7-97f0-d2d1af788f1a"
      },
      "execution_count": 118,
      "outputs": [
        {
          "output_type": "stream",
          "name": "stdout",
          "text": [
            "19400000.0\n",
            "29210000.0\n",
            "37480000.0\n",
            "45530000.0\n",
            "51870000.0\n"
          ]
        },
        {
          "output_type": "execute_result",
          "data": {
            "text/plain": [
              "10374000.0"
            ]
          },
          "metadata": {},
          "execution_count": 118
        }
      ]
    },
    {
      "cell_type": "code",
      "source": [
        "top5_mean_value(2000)"
      ],
      "metadata": {
        "colab": {
          "base_uri": "https://localhost:8080/"
        },
        "id": "mIpunNzv6FSK",
        "outputId": "24615c51-d0db-419b-eb21-be9cd575aa26"
      },
      "execution_count": 115,
      "outputs": [
        {
          "output_type": "execute_result",
          "data": {
            "text/plain": [
              "10374000.0"
            ]
          },
          "metadata": {},
          "execution_count": 115
        }
      ]
    },
    {
      "cell_type": "code",
      "source": [
        "league_mean_value('https://www.transfermarkt.com/premier-league/startseite/wettbewerb/GB1', 2020)\n",
        "\n",
        "### need to fix this function - the place when the value is taken from is static..."
      ],
      "metadata": {
        "colab": {
          "base_uri": "https://localhost:8080/"
        },
        "id": "n_EHknCU6Hwe",
        "outputId": "934dda90-0e98-478c-8dde-146d594eebc8"
      },
      "execution_count": 123,
      "outputs": [
        {
          "output_type": "stream",
          "name": "stdout",
          "text": [
            "https://www.transfermarkt.com/premier-league/startseite/wettbewerb/GB1/plus/?saison_id=2020\n"
          ]
        },
        {
          "output_type": "execute_result",
          "data": {
            "text/plain": [
              "19400000.0"
            ]
          },
          "metadata": {},
          "execution_count": 123
        }
      ]
    },
    {
      "cell_type": "code",
      "source": [
        "top5_values_history = {}\n",
        "for season in tqdm(range(1990, 2023)):\n",
        "  top5_values_history[season] = top5_mean_value(season)"
      ],
      "metadata": {
        "colab": {
          "base_uri": "https://localhost:8080/"
        },
        "id": "rEoLssS9piHI",
        "outputId": "e0b6e98b-1461-4bae-fd27-7d8345a85e1d"
      },
      "execution_count": 109,
      "outputs": [
        {
          "output_type": "stream",
          "name": "stderr",
          "text": [
            "100%|██████████| 33/33 [16:30<00:00, 30.02s/it]\n"
          ]
        }
      ]
    },
    {
      "cell_type": "code",
      "source": [
        "pd.Series(top5_values_history)"
      ],
      "metadata": {
        "colab": {
          "base_uri": "https://localhost:8080/"
        },
        "id": "WkJbHtlPsHlY",
        "outputId": "52d90812-35c1-4abd-d0c0-e35069435886"
      },
      "execution_count": 113,
      "outputs": [
        {
          "output_type": "execute_result",
          "data": {
            "text/plain": [
              "1990    10374000.0\n",
              "1991    10374000.0\n",
              "1992    10374000.0\n",
              "1993    10374000.0\n",
              "1994    10374000.0\n",
              "1995    10374000.0\n",
              "1996    10374000.0\n",
              "1997    10374000.0\n",
              "1998    10374000.0\n",
              "1999    10374000.0\n",
              "2000    10374000.0\n",
              "2001    10374000.0\n",
              "2002    10374000.0\n",
              "2003    10374000.0\n",
              "2004    10374000.0\n",
              "2005    10374000.0\n",
              "2006    10374000.0\n",
              "2007    10374000.0\n",
              "2008    10374000.0\n",
              "2009    10374000.0\n",
              "2010    10374000.0\n",
              "2011    10374000.0\n",
              "2012    10374000.0\n",
              "2013    10374000.0\n",
              "2014    10374000.0\n",
              "2015    10374000.0\n",
              "2016    10374000.0\n",
              "2017    10374000.0\n",
              "2018    10374000.0\n",
              "2019    10374000.0\n",
              "2020    10374000.0\n",
              "2021    10374000.0\n",
              "2022    10374000.0\n",
              "dtype: float64"
            ]
          },
          "metadata": {},
          "execution_count": 113
        }
      ]
    },
    {
      "cell_type": "code",
      "source": [
        "url = 'https://www.transfermarkt.com/thiago/leistungsdatendetails/spieler/60444/saison//verein/0/liga/1/wettbewerb//pos/0/trainer_id/0/plus/1'\n",
        "\n",
        "test, test1 = get_TM_table(url, table_idx=1, get_links=True)"
      ],
      "metadata": {
        "id": "lhiUIuJ2jJzR"
      },
      "execution_count": null,
      "outputs": []
    },
    {
      "cell_type": "code",
      "source": [
        "test1"
      ],
      "metadata": {
        "id": "LDocH216jJwv",
        "outputId": "9b2be58d-e43f-46f2-ff9b-b627acc4b221",
        "colab": {
          "base_uri": "https://localhost:8080/"
        }
      },
      "execution_count": null,
      "outputs": [
        {
          "output_type": "execute_result",
          "data": {
            "text/plain": [
              "['/premier-league/startseite/wettbewerb/GB1/saison_id/2022',\n",
              " '/fc-liverpool/startseite/verein/31/saison_id/2022',\n",
              " '/thiago/leistungsdatendetails/spieler/60444/plus/1/verein/31',\n",
              " '/premier-league/startseite/wettbewerb/GB1/saison_id/2021',\n",
              " '/fc-liverpool/startseite/verein/31/saison_id/2021',\n",
              " '/thiago/leistungsdatendetails/spieler/60444/plus/1/verein/31',\n",
              " '/premier-league/startseite/wettbewerb/GB1/saison_id/2020',\n",
              " '/fc-liverpool/startseite/verein/31/saison_id/2020',\n",
              " '/thiago/leistungsdatendetails/spieler/60444/plus/1/verein/31',\n",
              " '/bundesliga/startseite/wettbewerb/L1/saison_id/2019',\n",
              " '/fc-bayern-munchen/startseite/verein/27/saison_id/2019',\n",
              " '/thiago/leistungsdatendetails/spieler/60444/plus/1/verein/27',\n",
              " '/bundesliga/startseite/wettbewerb/L1/saison_id/2018',\n",
              " '/fc-bayern-munchen/startseite/verein/27/saison_id/2018',\n",
              " '/thiago/leistungsdatendetails/spieler/60444/plus/1/verein/27',\n",
              " '/bundesliga/startseite/wettbewerb/L1/saison_id/2017',\n",
              " '/fc-bayern-munchen/startseite/verein/27/saison_id/2017',\n",
              " '/thiago/leistungsdatendetails/spieler/60444/plus/1/verein/27',\n",
              " '/bundesliga/startseite/wettbewerb/L1/saison_id/2016',\n",
              " '/fc-bayern-munchen/startseite/verein/27/saison_id/2016',\n",
              " '/thiago/leistungsdatendetails/spieler/60444/plus/1/verein/27',\n",
              " '/bundesliga/startseite/wettbewerb/L1/saison_id/2015',\n",
              " '/fc-bayern-munchen/startseite/verein/27/saison_id/2015',\n",
              " '/thiago/leistungsdatendetails/spieler/60444/plus/1/verein/27',\n",
              " '/bundesliga/startseite/wettbewerb/L1/saison_id/2014',\n",
              " '/fc-bayern-munchen/startseite/verein/27/saison_id/2014',\n",
              " '/thiago/leistungsdatendetails/spieler/60444/plus/1/verein/27',\n",
              " '/bundesliga/startseite/wettbewerb/L1/saison_id/2013',\n",
              " '/fc-bayern-munchen/startseite/verein/27/saison_id/2013',\n",
              " '/thiago/leistungsdatendetails/spieler/60444/plus/1/verein/27',\n",
              " '/laliga/startseite/wettbewerb/ES1/saison_id/2012',\n",
              " '/fc-barcelona/startseite/verein/131/saison_id/2012',\n",
              " '/thiago/leistungsdatendetails/spieler/60444/plus/1/verein/131',\n",
              " '/laliga/startseite/wettbewerb/ES1/saison_id/2011',\n",
              " '/fc-barcelona/startseite/verein/131/saison_id/2011',\n",
              " '/thiago/leistungsdatendetails/spieler/60444/plus/1/verein/131',\n",
              " '/laliga/startseite/wettbewerb/ES1/saison_id/2010',\n",
              " '/fc-barcelona/startseite/verein/131/saison_id/2010',\n",
              " '/thiago/leistungsdatendetails/spieler/60444/plus/1/verein/131',\n",
              " '/laliga/startseite/wettbewerb/ES1/saison_id/2009',\n",
              " '/fc-barcelona/startseite/verein/131/saison_id/2009',\n",
              " '/thiago/leistungsdatendetails/spieler/60444/plus/1/verein/131',\n",
              " '/laliga/startseite/wettbewerb/ES1/saison_id/2008',\n",
              " '/fc-barcelona/startseite/verein/131/saison_id/2008',\n",
              " '/thiago/leistungsdatendetails/spieler/60444/plus/1/verein/131']"
            ]
          },
          "metadata": {},
          "execution_count": 53
        }
      ]
    },
    {
      "cell_type": "markdown",
      "source": [
        "## Inflation calculation"
      ],
      "metadata": {
        "id": "9vP4pB-YjB2h"
      }
    },
    {
      "cell_type": "code",
      "source": [],
      "metadata": {
        "id": "K-p--dDBjHib"
      },
      "execution_count": null,
      "outputs": []
    },
    {
      "cell_type": "code",
      "source": [],
      "metadata": {
        "id": "_JimemI-jHf2"
      },
      "execution_count": null,
      "outputs": []
    },
    {
      "cell_type": "code",
      "source": [],
      "metadata": {
        "id": "EqycABIGjHdO"
      },
      "execution_count": null,
      "outputs": []
    },
    {
      "cell_type": "markdown",
      "source": [
        "# Getting data\n",
        "\n"
      ],
      "metadata": {
        "id": "BhEPbjD4hdpr"
      }
    },
    {
      "cell_type": "markdown",
      "source": [
        "We will need to calculate inflation"
      ],
      "metadata": {
        "id": "DMLqUh5Oi7Xo"
      }
    },
    {
      "cell_type": "code",
      "source": [],
      "metadata": {
        "id": "IR8yS7FMgyFK"
      },
      "execution_count": null,
      "outputs": []
    },
    {
      "cell_type": "code",
      "source": [],
      "metadata": {
        "id": "ZmVDKoPZgyCO"
      },
      "execution_count": null,
      "outputs": []
    },
    {
      "cell_type": "code",
      "source": [],
      "metadata": {
        "id": "u_cKtHF9gx86"
      },
      "execution_count": null,
      "outputs": []
    },
    {
      "cell_type": "code",
      "source": [],
      "metadata": {
        "id": "sc3WYygKgx59"
      },
      "execution_count": null,
      "outputs": []
    },
    {
      "cell_type": "code",
      "source": [
        "def convert_age(str_age:str) -> float:\n",
        "  \"\"\"Converts age of FBRef format into float, e.g. '12-345' to 12.945\n",
        "  \"\"\"\n",
        "\n",
        "  years, days = (float(s) for s in str_age.split('-'))\n",
        "  days /= 365\n",
        "  return years + days"
      ],
      "metadata": {
        "id": "-HfPnOYZ7PRI"
      },
      "execution_count": null,
      "outputs": []
    },
    {
      "cell_type": "code",
      "source": [
        "# get html\n",
        "r = session.get('https://fbref.com/en/comps/Big5/keepersadv/players/Big-5-European-Leagues-Stats')\n",
        "soup = BeautifulSoup(r.html.raw_html)\n",
        "# find table and process data into dataframe\n",
        "table = soup.findAll('table')[0]\n",
        "headers = table.find('thead').findAll('tr')[1].text.split('\\n')[2:-1]\n",
        "rows = table.find('tbody').findAll('tr')\n",
        "data = [r.findAll('td') for r in rows]\n",
        "data = pd.DataFrame(np.array([row[col].text for row in data for col in range(len(row))]).reshape(-1, 34), columns=headers)\n",
        "# renaming some columns for better aestetics\n",
        "data.columns = ['Player', 'Nation', 'Pos', 'Squad', 'Comp', 'Age', 'Born', 'Played90s', 'GA',\n",
        "                'PKA', 'FK', 'CK', 'OG', 'PSxG', 'PSxG_perSoT', 'PSxG_diff', 'PSxG_diff_per90', 'Cmp',\n",
        "                'Att', 'Cmp_p', 'PassAtt', 'PassThr', 'PassLaunch_p', 'PassAvgLen', 'GKAtt', 'GKLaunch_p',\n",
        "                'GKAvgLen', 'CrossAtt', 'CrossStp', 'CrossStp%', 'nOPA', 'nOPA_per90', 'AvgDistOPA', 'Matches']\n",
        "# convert data\n",
        "data.Age = data.Age.apply(convert_age)\n",
        "NUMERIC = ['Age', 'Born', 'Played90s', 'GA', 'PKA', 'FK', 'CK', 'OG', 'PSxG', 'PSxG_perSoT', 'PSxG_diff',\n",
        "           'PSxG_diff_per90', 'Cmp', 'Att', 'Cmp_p', 'PassAtt', 'PassThr', 'PassLaunch_p', 'PassAvgLen',\n",
        "           'GKAtt', 'GKLaunch_p', 'GKAvgLen', 'CrossAtt', 'CrossStp', 'CrossStp%', 'nOPA', 'nOPA_per90', 'AvgDistOPA']\n",
        "for col in NUMERIC:\n",
        "  data[col] = pd.to_numeric(data[col], errors='coerce')\n",
        "\n",
        "DIVISIBLES = ['Cmp', 'Att', 'PassAtt', 'PassThr', 'GKAtt', 'CrossAtt', 'CrossStp']\n",
        "for col in DIVISIBLES:\n",
        "  colName = col + '_per90'\n",
        "  data[colName] = data[col] / data.Played90s\n",
        "\n",
        "NUMERIC += [colName + '_per90' for colName in DIVISIBLES]"
      ],
      "metadata": {
        "id": "emQIVSfCosuF"
      },
      "execution_count": null,
      "outputs": []
    },
    {
      "cell_type": "code",
      "source": [
        "data_filtered = data[data.Played90s >= 10]\n",
        "data_filtered = data_filtered.dropna()"
      ],
      "metadata": {
        "id": "eSGYEtYFosrb"
      },
      "execution_count": null,
      "outputs": []
    },
    {
      "cell_type": "code",
      "source": [
        "from sklearn.preprocessing import StandardScaler\n",
        "from sklearn.pipeline import Pipeline\n",
        "from sklearn.decomposition import PCA\n",
        "\n",
        "PCA_COLUMNS_PASSING = ['PassAtt_per90', 'PassThr_per90', 'PassLaunch_p', 'PassAvgLen']\n",
        "\n",
        "PCA_COLUMNS_CROSSES = ['CrossAtt_per90', 'CrossStp_per90']\n",
        "\n",
        "PCA_COLUMNS_SWEEPER = ['nOPA_per90', 'AvgDistOPA']\n",
        "\n",
        "pipeline = Pipeline([('scaler', StandardScaler()), ('model_pca', PCA(n_components=1))])\n",
        "\n",
        "X_LINE = pd.DataFrame(data_filtered['PSxG_diff_per90'])\n",
        "X_LINE.reset_index(inplace=True, drop=True)\n",
        "X_PASSING = data_filtered[PCA_COLUMNS_PASSING]\n",
        "X_CROSSES = data_filtered[PCA_COLUMNS_CROSSES]\n",
        "X_SWEEPER = data_filtered[PCA_COLUMNS_SWEEPER]\n",
        "\n",
        "data_transformed_passing = pd.DataFrame(pipeline.fit_transform(X_PASSING))\n",
        "data_transformed_crosses = pd.DataFrame(pipeline.fit_transform(X_CROSSES))\n",
        "data_transformed_sweeper = pd.DataFrame(pipeline.fit_transform(X_SWEEPER))\n",
        "\n",
        "data_transformed = pd.concat([X_LINE, data_transformed_passing, data_transformed_crosses, data_transformed_sweeper], axis=1)\n",
        "scaler = StandardScaler()\n",
        "data_transformed = pd.DataFrame(scaler.fit_transform(data_transformed))\n",
        "data_transformed.columns = ['Line', 'Passing', 'Crosses', 'Sweeper']"
      ],
      "metadata": {
        "id": "IiC_ghUetXxw",
        "colab": {
          "base_uri": "https://localhost:8080/"
        },
        "outputId": "87045216-4b4e-4e38-fe2e-e8b00946afb4"
      },
      "execution_count": null,
      "outputs": [
        {
          "output_type": "stream",
          "name": "stderr",
          "text": [
            "/usr/local/lib/python3.8/dist-packages/sklearn/utils/validation.py:1688: FutureWarning: Feature names only support names that are all strings. Got feature names with dtypes: ['int', 'str']. An error will be raised in 1.2.\n",
            "  warnings.warn(\n",
            "/usr/local/lib/python3.8/dist-packages/sklearn/utils/validation.py:1688: FutureWarning: Feature names only support names that are all strings. Got feature names with dtypes: ['int', 'str']. An error will be raised in 1.2.\n",
            "  warnings.warn(\n"
          ]
        }
      ]
    },
    {
      "cell_type": "code",
      "source": [
        "data_filtered.reset_index(inplace=True, drop=True)\n",
        "data_withPCA = pd.concat([data_filtered, data_transformed], axis=1)"
      ],
      "metadata": {
        "id": "zzO222CPYgIU"
      },
      "execution_count": null,
      "outputs": []
    },
    {
      "cell_type": "code",
      "source": [
        "fig, ax = plt.subplots(figsize=(15,10))\n",
        "sns.scatterplot(data=data_withPCA, x='Passing', y='Sweeper', hue='Comp')"
      ],
      "metadata": {
        "id": "yqGmi9_m5N-T",
        "colab": {
          "base_uri": "https://localhost:8080/",
          "height": 623
        },
        "outputId": "45ce5912-a387-4d39-f129-9023285a436a"
      },
      "execution_count": null,
      "outputs": [
        {
          "output_type": "execute_result",
          "data": {
            "text/plain": [
              "<matplotlib.axes._subplots.AxesSubplot at 0x7fb106e24a30>"
            ]
          },
          "metadata": {},
          "execution_count": 537
        },
        {
          "output_type": "display_data",
          "data": {
            "text/plain": [
              "<Figure size 1080x720 with 1 Axes>"
            ],
            "image/png": "[encoded data removed]"
          },
          "metadata": {
            "needs_background": "light"
          }
        }
      ]
    },
    {
      "cell_type": "code",
      "source": [
        "data_withPCA.query(\"Line > 0.5 & Passing < 1 & Crosses > -0.5 & Sweeper > 1\")"
      ],
      "metadata": {
        "colab": {
          "base_uri": "https://localhost:8080/",
          "height": 323
        },
        "id": "6BEaWRAwfPHN",
        "outputId": "ae983a18-47c3-458b-da52-e95b2e3cd998"
      },
      "execution_count": null,
      "outputs": [
        {
          "output_type": "execute_result",
          "data": {
            "text/plain": [
              "               Player   Nation Pos          Squad                Comp  \\\n",
              "1   Kepa Arrizabalaga   es ESP  GK        Chelsea  eng Premier League   \n",
              "9      Yassine Bounou   ma MAR  GK        Sevilla          es La Liga   \n",
              "66          Nick Pope  eng ENG  GK  Newcastle Utd  eng Premier League   \n",
              "\n",
              "          Age  Born  Played90s    GA  PKA  ...  Att_per90  PassAtt_per90  \\\n",
              "1   28.317808  1994       11.5   9.0  0.0  ...   7.826087      29.913043   \n",
              "9   31.813699  1991       15.5  23.0  2.0  ...  12.000000      31.354839   \n",
              "66  30.775342  1992       20.0  11.0  1.0  ...  11.000000      20.350000   \n",
              "\n",
              "    PassThr_per90  GKAtt_per90  CrossAtt_per90  CrossStp_per90      Line  \\\n",
              "1        5.043478     7.217391       14.521739        0.695652  2.832961   \n",
              "9        4.000000     6.903226       12.838710        0.903226  1.049851   \n",
              "66       6.550000     5.400000       12.650000        0.950000  0.916118   \n",
              "\n",
              "     Passing   Crosses   Sweeper  \n",
              "1  -1.639256  0.155366  1.473099  \n",
              "9  -0.445246  0.103422  1.408388  \n",
              "66 -0.371801  0.143557  1.636420  \n",
              "\n",
              "[3 rows x 45 columns]"
            ],
            "text/html": [
              "\n",
              "  <div id=\"df-92cff61a-cb19-449c-8093-5352114fe642\">\n",
              "    <div class=\"colab-df-container\">\n",
              "      <div>\n",
              "<style scoped>\n",
              "    .dataframe tbody tr th:only-of-type {\n",
              "        vertical-align: middle;\n",
              "    }\n",
              "\n",
              "    .dataframe tbody tr th {\n",
              "        vertical-align: top;\n",
              "    }\n",
              "\n",
              "    .dataframe thead th {\n",
              "        text-align: right;\n",
              "    }\n",
              "</style>\n",
              "<table border=\"1\" class=\"dataframe\">\n",
              "  <thead>\n",
              "    <tr style=\"text-align: right;\">\n",
              "      <th></th>\n",
              "      <th>Player</th>\n",
              "      <th>Nation</th>\n",
              "      <th>Pos</th>\n",
              "      <th>Squad</th>\n",
              "      <th>Comp</th>\n",
              "      <th>Age</th>\n",
              "      <th>Born</th>\n",
              "      <th>Played90s</th>\n",
              "      <th>GA</th>\n",
              "      <th>PKA</th>\n",
              "      <th>...</th>\n",
              "      <th>Att_per90</th>\n",
              "      <th>PassAtt_per90</th>\n",
              "      <th>PassThr_per90</th>\n",
              "      <th>GKAtt_per90</th>\n",
              "      <th>CrossAtt_per90</th>\n",
              "      <th>CrossStp_per90</th>\n",
              "      <th>Line</th>\n",
              "      <th>Passing</th>\n",
              "      <th>Crosses</th>\n",
              "      <th>Sweeper</th>\n",
              "    </tr>\n",
              "  </thead>\n",
              "  <tbody>\n",
              "    <tr>\n",
              "      <th>1</th>\n",
              "      <td>Kepa Arrizabalaga</td>\n",
              "      <td>es ESP</td>\n",
              "      <td>GK</td>\n",
              "      <td>Chelsea</td>\n",
              "      <td>eng Premier League</td>\n",
              "      <td>28.317808</td>\n",
              "      <td>1994</td>\n",
              "      <td>11.5</td>\n",
              "      <td>9.0</td>\n",
              "      <td>0.0</td>\n",
              "      <td>...</td>\n",
              "      <td>7.826087</td>\n",
              "      <td>29.913043</td>\n",
              "      <td>5.043478</td>\n",
              "      <td>7.217391</td>\n",
              "      <td>14.521739</td>\n",
              "      <td>0.695652</td>\n",
              "      <td>2.832961</td>\n",
              "      <td>-1.639256</td>\n",
              "      <td>0.155366</td>\n",
              "      <td>1.473099</td>\n",
              "    </tr>\n",
              "    <tr>\n",
              "      <th>9</th>\n",
              "      <td>Yassine Bounou</td>\n",
              "      <td>ma MAR</td>\n",
              "      <td>GK</td>\n",
              "      <td>Sevilla</td>\n",
              "      <td>es La Liga</td>\n",
              "      <td>31.813699</td>\n",
              "      <td>1991</td>\n",
              "      <td>15.5</td>\n",
              "      <td>23.0</td>\n",
              "      <td>2.0</td>\n",
              "      <td>...</td>\n",
              "      <td>12.000000</td>\n",
              "      <td>31.354839</td>\n",
              "      <td>4.000000</td>\n",
              "      <td>6.903226</td>\n",
              "      <td>12.838710</td>\n",
              "      <td>0.903226</td>\n",
              "      <td>1.049851</td>\n",
              "      <td>-0.445246</td>\n",
              "      <td>0.103422</td>\n",
              "      <td>1.408388</td>\n",
              "    </tr>\n",
              "    <tr>\n",
              "      <th>66</th>\n",
              "      <td>Nick Pope</td>\n",
              "      <td>eng ENG</td>\n",
              "      <td>GK</td>\n",
              "      <td>Newcastle Utd</td>\n",
              "      <td>eng Premier League</td>\n",
              "      <td>30.775342</td>\n",
              "      <td>1992</td>\n",
              "      <td>20.0</td>\n",
              "      <td>11.0</td>\n",
              "      <td>1.0</td>\n",
              "      <td>...</td>\n",
              "      <td>11.000000</td>\n",
              "      <td>20.350000</td>\n",
              "      <td>6.550000</td>\n",
              "      <td>5.400000</td>\n",
              "      <td>12.650000</td>\n",
              "      <td>0.950000</td>\n",
              "      <td>0.916118</td>\n",
              "      <td>-0.371801</td>\n",
              "      <td>0.143557</td>\n",
              "      <td>1.636420</td>\n",
              "    </tr>\n",
              "  </tbody>\n",
              "</table>\n",
              "<p>3 rows × 45 columns</p>\n",
              "</div>\n",
              "      <button class=\"colab-df-convert\" onclick=\"convertToInteractive('df-92cff61a-cb19-449c-8093-5352114fe642')\"\n",
              "              title=\"Convert this dataframe to an interactive table.\"\n",
              "              style=\"display:none;\">\n",
              "        \n",
              "  <svg xmlns=\"http://www.w3.org/2000/svg\" height=\"24px\"viewBox=\"0 0 24 24\"\n",
              "       width=\"24px\">\n",
              "    <path d=\"M0 0h24v24H0V0z\" fill=\"none\"/>\n",
              "    <path d=\"M18.56 5.44l.94 2.06.94-2.06 2.06-.94-2.06-.94-.94-2.06-.94 2.06-2.06.94zm-11 1L8.5 8.5l.94-2.06 2.06-.94-2.06-.94L8.5 2.5l-.94 2.06-2.06.94zm10 10l.94 2.06.94-2.06 2.06-.94-2.06-.94-.94-2.06-.94 2.06-2.06.94z\"/><path d=\"M17.41 7.96l-1.37-1.37c-.4-.4-.92-.59-1.43-.59-.52 0-1.04.2-1.43.59L10.3 9.45l-7.72 7.72c-.78.78-.78 2.05 0 2.83L4 21.41c.39.39.9.59 1.41.59.51 0 1.02-.2 1.41-.59l7.78-7.78 2.81-2.81c.8-.78.8-2.07 0-2.86zM5.41 20L4 18.59l7.72-7.72 1.47 1.35L5.41 20z\"/>\n",
              "  </svg>\n",
              "      </button>\n",
              "      \n",
              "  <style>\n",
              "    .colab-df-container {\n",
              "      display:flex;\n",
              "      flex-wrap:wrap;\n",
              "      gap: 12px;\n",
              "    }\n",
              "\n",
              "    .colab-df-convert {\n",
              "      background-color: #E8F0FE;\n",
              "      border: none;\n",
              "      border-radius: 50%;\n",
              "      cursor: pointer;\n",
              "      display: none;\n",
              "      fill: #1967D2;\n",
              "      height: 32px;\n",
              "      padding: 0 0 0 0;\n",
              "      width: 32px;\n",
              "    }\n",
              "\n",
              "    .colab-df-convert:hover {\n",
              "      background-color: #E2EBFA;\n",
              "      box-shadow: 0px 1px 2px rgba(60, 64, 67, 0.3), 0px 1px 3px 1px rgba(60, 64, 67, 0.15);\n",
              "      fill: #174EA6;\n",
              "    }\n",
              "\n",
              "    [theme=dark] .colab-df-convert {\n",
              "      background-color: #3B4455;\n",
              "      fill: #D2E3FC;\n",
              "    }\n",
              "\n",
              "    [theme=dark] .colab-df-convert:hover {\n",
              "      background-color: #434B5C;\n",
              "      box-shadow: 0px 1px 3px 1px rgba(0, 0, 0, 0.15);\n",
              "      filter: drop-shadow(0px 1px 2px rgba(0, 0, 0, 0.3));\n",
              "      fill: #FFFFFF;\n",
              "    }\n",
              "  </style>\n",
              "\n",
              "      <script>\n",
              "        const buttonEl =\n",
              "          document.querySelector('#df-92cff61a-cb19-449c-8093-5352114fe642 button.colab-df-convert');\n",
              "        buttonEl.style.display =\n",
              "          google.colab.kernel.accessAllowed ? 'block' : 'none';\n",
              "\n",
              "        async function convertToInteractive(key) {\n",
              "          const element = document.querySelector('#df-92cff61a-cb19-449c-8093-5352114fe642');\n",
              "          const dataTable =\n",
              "            await google.colab.kernel.invokeFunction('convertToInteractive',\n",
              "                                                     [key], {});\n",
              "          if (!dataTable) return;\n",
              "\n",
              "          const docLinkHtml = 'Like what you see? Visit the ' +\n",
              "            '<a target=\"_blank\" href=https://colab.research.google.com/notebooks/data_table.ipynb>data table notebook</a>'\n",
              "            + ' to learn more about interactive tables.';\n",
              "          element.innerHTML = '';\n",
              "          dataTable['output_type'] = 'display_data';\n",
              "          await google.colab.output.renderOutput(dataTable, element);\n",
              "          const docLink = document.createElement('div');\n",
              "          docLink.innerHTML = docLinkHtml;\n",
              "          element.appendChild(docLink);\n",
              "        }\n",
              "      </script>\n",
              "    </div>\n",
              "  </div>\n",
              "  "
            ]
          },
          "metadata": {},
          "execution_count": 555
        }
      ]
    },
    {
      "cell_type": "code",
      "source": [
        "data_withPCA.query(\"Age < 25\")"
      ],
      "metadata": {
        "colab": {
          "base_uri": "https://localhost:8080/",
          "height": 730
        },
        "id": "f0T6aTkqfPE3",
        "outputId": "e8fb85c6-ed4d-4a1f-b34d-8fac361f46f9"
      },
      "execution_count": null,
      "outputs": [
        {
          "output_type": "execute_result",
          "data": {
            "text/plain": [
              "                  Player   Nation Pos         Squad                Comp  \\\n",
              "5           Gavin Bazunu   ie IRL  GK   Southampton  eng Premier League   \n",
              "11     Marco Carnesecchi   it ITA  GK     Cremonese          it Serie A   \n",
              "13       Lucas Chevalier   fr FRA  GK         Lille          fr Ligue 1   \n",
              "14    Oliver Christensen   dk DEN  GK    Hertha BSC       de Bundesliga   \n",
              "21         Yehvann Diouf   fr FRA  GK         Reims          fr Ligue 1   \n",
              "22  Gianluigi Donnarumma   it ITA  GK     Paris S-G          fr Ligue 1   \n",
              "38          Alban Lafont   fr FRA  GK        Nantes          fr Ligue 1   \n",
              "46  Giorgi Mamardashvili   ge GEO  GK      Valencia          es La Liga   \n",
              "52         Illan Meslier   fr FRA  GK  Leeds United  eng Premier League   \n",
              "69        Aaron Ramsdale  eng ENG  GK       Arsenal  eng Premier League   \n",
              "94          Mark Travers   ie IRL  GK   Bournemouth  eng Premier League   \n",
              "\n",
              "          Age  Born  Played90s    GA  PKA  ...  Att_per90  PassAtt_per90  \\\n",
              "5   20.934247  2002       20.0  35.0  0.0  ...  20.650000      30.250000   \n",
              "11  22.575342  2000       10.0  14.0  1.0  ...  15.300000      24.100000   \n",
              "13  21.224658  2001       13.0  12.0  1.0  ...  10.000000      28.307692   \n",
              "14  23.852055  1999       17.0  30.0  2.0  ...  16.235294      30.058824   \n",
              "21  23.197260  1999       12.0   9.0  0.0  ...  11.416667      25.916667   \n",
              "22  23.920548  1999       19.0  14.0  0.0  ...   3.263158      19.789474   \n",
              "38  24.010959  1999       18.0  23.0  4.0  ...  14.166667      25.000000   \n",
              "46  22.328767  2000       17.0  20.0  2.0  ...   8.529412      25.352941   \n",
              "52  22.906849  2000       19.0  33.0  2.0  ...  13.789474      22.842105   \n",
              "69  24.706849  1998       19.0  16.0  2.0  ...  12.210526      24.631579   \n",
              "94  23.695890  1999       10.5  31.0  2.0  ...  13.904762      20.476190   \n",
              "\n",
              "    PassThr_per90  GKAtt_per90  CrossAtt_per90  CrossStp_per90      Line  \\\n",
              "5        4.950000     7.200000       14.100000        1.200000 -1.981435   \n",
              "11       5.600000     6.600000       10.800000        1.000000  1.451051   \n",
              "13       4.384615     3.384615       11.076923        1.153846 -0.064592   \n",
              "14       5.411765     7.411765       14.294118        1.176471 -0.956147   \n",
              "21       6.166667     6.666667       16.916667        1.583333  2.119717   \n",
              "22       4.368421     4.947368        9.157895        0.736842  0.648652   \n",
              "38       5.444444     7.111111       14.222222        1.000000  1.049851   \n",
              "46       4.470588     4.764706       11.352941        0.823529  0.247452   \n",
              "52       5.684211     7.736842       12.210526        0.947368 -0.956147   \n",
              "69       4.789474     3.842105       10.947368        0.684211  0.648652   \n",
              "94       4.476190    10.380952       19.619048        0.476190 -2.783834   \n",
              "\n",
              "     Passing   Crosses   Sweeper  \n",
              "5   0.881747  1.026989  0.164925  \n",
              "11  0.820420 -0.261985 -0.767400  \n",
              "13 -0.489873  0.114238 -1.516591  \n",
              "14 -0.105224  1.033785  1.640794  \n",
              "21 -0.540461  2.543012 -0.792164  \n",
              "22 -1.586135 -1.223416 -0.241866  \n",
              "38  0.088619  0.669097 -1.078409  \n",
              "46 -0.623733 -0.456674  0.498319  \n",
              "52  0.164219  0.018843  1.034790  \n",
              "69  0.301769 -0.839488  0.086834  \n",
              "94  0.224003  1.112980 -1.738060  \n",
              "\n",
              "[11 rows x 45 columns]"
            ],
            "text/html": [
              "\n",
              "  <div id=\"df-74669dda-a06e-4602-8775-d12e73b0031d\">\n",
              "    <div class=\"colab-df-container\">\n",
              "      <div>\n",
              "<style scoped>\n",
              "    .dataframe tbody tr th:only-of-type {\n",
              "        vertical-align: middle;\n",
              "    }\n",
              "\n",
              "    .dataframe tbody tr th {\n",
              "        vertical-align: top;\n",
              "    }\n",
              "\n",
              "    .dataframe thead th {\n",
              "        text-align: right;\n",
              "    }\n",
              "</style>\n",
              "<table border=\"1\" class=\"dataframe\">\n",
              "  <thead>\n",
              "    <tr style=\"text-align: right;\">\n",
              "      <th></th>\n",
              "      <th>Player</th>\n",
              "      <th>Nation</th>\n",
              "      <th>Pos</th>\n",
              "      <th>Squad</th>\n",
              "      <th>Comp</th>\n",
              "      <th>Age</th>\n",
              "      <th>Born</th>\n",
              "      <th>Played90s</th>\n",
              "      <th>GA</th>\n",
              "      <th>PKA</th>\n",
              "      <th>...</th>\n",
              "      <th>Att_per90</th>\n",
              "      <th>PassAtt_per90</th>\n",
              "      <th>PassThr_per90</th>\n",
              "      <th>GKAtt_per90</th>\n",
              "      <th>CrossAtt_per90</th>\n",
              "      <th>CrossStp_per90</th>\n",
              "      <th>Line</th>\n",
              "      <th>Passing</th>\n",
              "      <th>Crosses</th>\n",
              "      <th>Sweeper</th>\n",
              "    </tr>\n",
              "  </thead>\n",
              "  <tbody>\n",
              "    <tr>\n",
              "      <th>5</th>\n",
              "      <td>Gavin Bazunu</td>\n",
              "      <td>ie IRL</td>\n",
              "      <td>GK</td>\n",
              "      <td>Southampton</td>\n",
              "      <td>eng Premier League</td>\n",
              "      <td>20.934247</td>\n",
              "      <td>2002</td>\n",
              "      <td>20.0</td>\n",
              "      <td>35.0</td>\n",
              "      <td>0.0</td>\n",
              "      <td>...</td>\n",
              "      <td>20.650000</td>\n",
              "      <td>30.250000</td>\n",
              "      <td>4.950000</td>\n",
              "      <td>7.200000</td>\n",
              "      <td>14.100000</td>\n",
              "      <td>1.200000</td>\n",
              "      <td>-1.981435</td>\n",
              "      <td>0.881747</td>\n",
              "      <td>1.026989</td>\n",
              "      <td>0.164925</td>\n",
              "    </tr>\n",
              "    <tr>\n",
              "      <th>11</th>\n",
              "      <td>Marco Carnesecchi</td>\n",
              "      <td>it ITA</td>\n",
              "      <td>GK</td>\n",
              "      <td>Cremonese</td>\n",
              "      <td>it Serie A</td>\n",
              "      <td>22.575342</td>\n",
              "      <td>2000</td>\n",
              "      <td>10.0</td>\n",
              "      <td>14.0</td>\n",
              "      <td>1.0</td>\n",
              "      <td>...</td>\n",
              "      <td>15.300000</td>\n",
              "      <td>24.100000</td>\n",
              "      <td>5.600000</td>\n",
              "      <td>6.600000</td>\n",
              "      <td>10.800000</td>\n",
              "      <td>1.000000</td>\n",
              "      <td>1.451051</td>\n",
              "      <td>0.820420</td>\n",
              "      <td>-0.261985</td>\n",
              "      <td>-0.767400</td>\n",
              "    </tr>\n",
              "    <tr>\n",
              "      <th>13</th>\n",
              "      <td>Lucas Chevalier</td>\n",
              "      <td>fr FRA</td>\n",
              "      <td>GK</td>\n",
              "      <td>Lille</td>\n",
              "      <td>fr Ligue 1</td>\n",
              "      <td>21.224658</td>\n",
              "      <td>2001</td>\n",
              "      <td>13.0</td>\n",
              "      <td>12.0</td>\n",
              "      <td>1.0</td>\n",
              "      <td>...</td>\n",
              "      <td>10.000000</td>\n",
              "      <td>28.307692</td>\n",
              "      <td>4.384615</td>\n",
              "      <td>3.384615</td>\n",
              "      <td>11.076923</td>\n",
              "      <td>1.153846</td>\n",
              "      <td>-0.064592</td>\n",
              "      <td>-0.489873</td>\n",
              "      <td>0.114238</td>\n",
              "      <td>-1.516591</td>\n",
              "    </tr>\n",
              "    <tr>\n",
              "      <th>14</th>\n",
              "      <td>Oliver Christensen</td>\n",
              "      <td>dk DEN</td>\n",
              "      <td>GK</td>\n",
              "      <td>Hertha BSC</td>\n",
              "      <td>de Bundesliga</td>\n",
              "      <td>23.852055</td>\n",
              "      <td>1999</td>\n",
              "      <td>17.0</td>\n",
              "      <td>30.0</td>\n",
              "      <td>2.0</td>\n",
              "      <td>...</td>\n",
              "      <td>16.235294</td>\n",
              "      <td>30.058824</td>\n",
              "      <td>5.411765</td>\n",
              "      <td>7.411765</td>\n",
              "      <td>14.294118</td>\n",
              "      <td>1.176471</td>\n",
              "      <td>-0.956147</td>\n",
              "      <td>-0.105224</td>\n",
              "      <td>1.033785</td>\n",
              "      <td>1.640794</td>\n",
              "    </tr>\n",
              "    <tr>\n",
              "      <th>21</th>\n",
              "      <td>Yehvann Diouf</td>\n",
              "      <td>fr FRA</td>\n",
              "      <td>GK</td>\n",
              "      <td>Reims</td>\n",
              "      <td>fr Ligue 1</td>\n",
              "      <td>23.197260</td>\n",
              "      <td>1999</td>\n",
              "      <td>12.0</td>\n",
              "      <td>9.0</td>\n",
              "      <td>0.0</td>\n",
              "      <td>...</td>\n",
              "      <td>11.416667</td>\n",
              "      <td>25.916667</td>\n",
              "      <td>6.166667</td>\n",
              "      <td>6.666667</td>\n",
              "      <td>16.916667</td>\n",
              "      <td>1.583333</td>\n",
              "      <td>2.119717</td>\n",
              "      <td>-0.540461</td>\n",
              "      <td>2.543012</td>\n",
              "      <td>-0.792164</td>\n",
              "    </tr>\n",
              "    <tr>\n",
              "      <th>22</th>\n",
              "      <td>Gianluigi Donnarumma</td>\n",
              "      <td>it ITA</td>\n",
              "      <td>GK</td>\n",
              "      <td>Paris S-G</td>\n",
              "      <td>fr Ligue 1</td>\n",
              "      <td>23.920548</td>\n",
              "      <td>1999</td>\n",
              "      <td>19.0</td>\n",
              "      <td>14.0</td>\n",
              "      <td>0.0</td>\n",
              "      <td>...</td>\n",
              "      <td>3.263158</td>\n",
              "      <td>19.789474</td>\n",
              "      <td>4.368421</td>\n",
              "      <td>4.947368</td>\n",
              "      <td>9.157895</td>\n",
              "      <td>0.736842</td>\n",
              "      <td>0.648652</td>\n",
              "      <td>-1.586135</td>\n",
              "      <td>-1.223416</td>\n",
              "      <td>-0.241866</td>\n",
              "    </tr>\n",
              "    <tr>\n",
              "      <th>38</th>\n",
              "      <td>Alban Lafont</td>\n",
              "      <td>fr FRA</td>\n",
              "      <td>GK</td>\n",
              "      <td>Nantes</td>\n",
              "      <td>fr Ligue 1</td>\n",
              "      <td>24.010959</td>\n",
              "      <td>1999</td>\n",
              "      <td>18.0</td>\n",
              "      <td>23.0</td>\n",
              "      <td>4.0</td>\n",
              "      <td>...</td>\n",
              "      <td>14.166667</td>\n",
              "      <td>25.000000</td>\n",
              "      <td>5.444444</td>\n",
              "      <td>7.111111</td>\n",
              "      <td>14.222222</td>\n",
              "      <td>1.000000</td>\n",
              "      <td>1.049851</td>\n",
              "      <td>0.088619</td>\n",
              "      <td>0.669097</td>\n",
              "      <td>-1.078409</td>\n",
              "    </tr>\n",
              "    <tr>\n",
              "      <th>46</th>\n",
              "      <td>Giorgi Mamardashvili</td>\n",
              "      <td>ge GEO</td>\n",
              "      <td>GK</td>\n",
              "      <td>Valencia</td>\n",
              "      <td>es La Liga</td>\n",
              "      <td>22.328767</td>\n",
              "      <td>2000</td>\n",
              "      <td>17.0</td>\n",
              "      <td>20.0</td>\n",
              "      <td>2.0</td>\n",
              "      <td>...</td>\n",
              "      <td>8.529412</td>\n",
              "      <td>25.352941</td>\n",
              "      <td>4.470588</td>\n",
              "      <td>4.764706</td>\n",
              "      <td>11.352941</td>\n",
              "      <td>0.823529</td>\n",
              "      <td>0.247452</td>\n",
              "      <td>-0.623733</td>\n",
              "      <td>-0.456674</td>\n",
              "      <td>0.498319</td>\n",
              "    </tr>\n",
              "    <tr>\n",
              "      <th>52</th>\n",
              "      <td>Illan Meslier</td>\n",
              "      <td>fr FRA</td>\n",
              "      <td>GK</td>\n",
              "      <td>Leeds United</td>\n",
              "      <td>eng Premier League</td>\n",
              "      <td>22.906849</td>\n",
              "      <td>2000</td>\n",
              "      <td>19.0</td>\n",
              "      <td>33.0</td>\n",
              "      <td>2.0</td>\n",
              "      <td>...</td>\n",
              "      <td>13.789474</td>\n",
              "      <td>22.842105</td>\n",
              "      <td>5.684211</td>\n",
              "      <td>7.736842</td>\n",
              "      <td>12.210526</td>\n",
              "      <td>0.947368</td>\n",
              "      <td>-0.956147</td>\n",
              "      <td>0.164219</td>\n",
              "      <td>0.018843</td>\n",
              "      <td>1.034790</td>\n",
              "    </tr>\n",
              "    <tr>\n",
              "      <th>69</th>\n",
              "      <td>Aaron Ramsdale</td>\n",
              "      <td>eng ENG</td>\n",
              "      <td>GK</td>\n",
              "      <td>Arsenal</td>\n",
              "      <td>eng Premier League</td>\n",
              "      <td>24.706849</td>\n",
              "      <td>1998</td>\n",
              "      <td>19.0</td>\n",
              "      <td>16.0</td>\n",
              "      <td>2.0</td>\n",
              "      <td>...</td>\n",
              "      <td>12.210526</td>\n",
              "      <td>24.631579</td>\n",
              "      <td>4.789474</td>\n",
              "      <td>3.842105</td>\n",
              "      <td>10.947368</td>\n",
              "      <td>0.684211</td>\n",
              "      <td>0.648652</td>\n",
              "      <td>0.301769</td>\n",
              "      <td>-0.839488</td>\n",
              "      <td>0.086834</td>\n",
              "    </tr>\n",
              "    <tr>\n",
              "      <th>94</th>\n",
              "      <td>Mark Travers</td>\n",
              "      <td>ie IRL</td>\n",
              "      <td>GK</td>\n",
              "      <td>Bournemouth</td>\n",
              "      <td>eng Premier League</td>\n",
              "      <td>23.695890</td>\n",
              "      <td>1999</td>\n",
              "      <td>10.5</td>\n",
              "      <td>31.0</td>\n",
              "      <td>2.0</td>\n",
              "      <td>...</td>\n",
              "      <td>13.904762</td>\n",
              "      <td>20.476190</td>\n",
              "      <td>4.476190</td>\n",
              "      <td>10.380952</td>\n",
              "      <td>19.619048</td>\n",
              "      <td>0.476190</td>\n",
              "      <td>-2.783834</td>\n",
              "      <td>0.224003</td>\n",
              "      <td>1.112980</td>\n",
              "      <td>-1.738060</td>\n",
              "    </tr>\n",
              "  </tbody>\n",
              "</table>\n",
              "<p>11 rows × 45 columns</p>\n",
              "</div>\n",
              "      <button class=\"colab-df-convert\" onclick=\"convertToInteractive('df-74669dda-a06e-4602-8775-d12e73b0031d')\"\n",
              "              title=\"Convert this dataframe to an interactive table.\"\n",
              "              style=\"display:none;\">\n",
              "        \n",
              "  <svg xmlns=\"http://www.w3.org/2000/svg\" height=\"24px\"viewBox=\"0 0 24 24\"\n",
              "       width=\"24px\">\n",
              "    <path d=\"M0 0h24v24H0V0z\" fill=\"none\"/>\n",
              "    <path d=\"M18.56 5.44l.94 2.06.94-2.06 2.06-.94-2.06-.94-.94-2.06-.94 2.06-2.06.94zm-11 1L8.5 8.5l.94-2.06 2.06-.94-2.06-.94L8.5 2.5l-.94 2.06-2.06.94zm10 10l.94 2.06.94-2.06 2.06-.94-2.06-.94-.94-2.06-.94 2.06-2.06.94z\"/><path d=\"M17.41 7.96l-1.37-1.37c-.4-.4-.92-.59-1.43-.59-.52 0-1.04.2-1.43.59L10.3 9.45l-7.72 7.72c-.78.78-.78 2.05 0 2.83L4 21.41c.39.39.9.59 1.41.59.51 0 1.02-.2 1.41-.59l7.78-7.78 2.81-2.81c.8-.78.8-2.07 0-2.86zM5.41 20L4 18.59l7.72-7.72 1.47 1.35L5.41 20z\"/>\n",
              "  </svg>\n",
              "      </button>\n",
              "      \n",
              "  <style>\n",
              "    .colab-df-container {\n",
              "      display:flex;\n",
              "      flex-wrap:wrap;\n",
              "      gap: 12px;\n",
              "    }\n",
              "\n",
              "    .colab-df-convert {\n",
              "      background-color: #E8F0FE;\n",
              "      border: none;\n",
              "      border-radius: 50%;\n",
              "      cursor: pointer;\n",
              "      display: none;\n",
              "      fill: #1967D2;\n",
              "      height: 32px;\n",
              "      padding: 0 0 0 0;\n",
              "      width: 32px;\n",
              "    }\n",
              "\n",
              "    .colab-df-convert:hover {\n",
              "      background-color: #E2EBFA;\n",
              "      box-shadow: 0px 1px 2px rgba(60, 64, 67, 0.3), 0px 1px 3px 1px rgba(60, 64, 67, 0.15);\n",
              "      fill: #174EA6;\n",
              "    }\n",
              "\n",
              "    [theme=dark] .colab-df-convert {\n",
              "      background-color: #3B4455;\n",
              "      fill: #D2E3FC;\n",
              "    }\n",
              "\n",
              "    [theme=dark] .colab-df-convert:hover {\n",
              "      background-color: #434B5C;\n",
              "      box-shadow: 0px 1px 3px 1px rgba(0, 0, 0, 0.15);\n",
              "      filter: drop-shadow(0px 1px 2px rgba(0, 0, 0, 0.3));\n",
              "      fill: #FFFFFF;\n",
              "    }\n",
              "  </style>\n",
              "\n",
              "      <script>\n",
              "        const buttonEl =\n",
              "          document.querySelector('#df-74669dda-a06e-4602-8775-d12e73b0031d button.colab-df-convert');\n",
              "        buttonEl.style.display =\n",
              "          google.colab.kernel.accessAllowed ? 'block' : 'none';\n",
              "\n",
              "        async function convertToInteractive(key) {\n",
              "          const element = document.querySelector('#df-74669dda-a06e-4602-8775-d12e73b0031d');\n",
              "          const dataTable =\n",
              "            await google.colab.kernel.invokeFunction('convertToInteractive',\n",
              "                                                     [key], {});\n",
              "          if (!dataTable) return;\n",
              "\n",
              "          const docLinkHtml = 'Like what you see? Visit the ' +\n",
              "            '<a target=\"_blank\" href=https://colab.research.google.com/notebooks/data_table.ipynb>data table notebook</a>'\n",
              "            + ' to learn more about interactive tables.';\n",
              "          element.innerHTML = '';\n",
              "          dataTable['output_type'] = 'display_data';\n",
              "          await google.colab.output.renderOutput(dataTable, element);\n",
              "          const docLink = document.createElement('div');\n",
              "          docLink.innerHTML = docLinkHtml;\n",
              "          element.appendChild(docLink);\n",
              "        }\n",
              "      </script>\n",
              "    </div>\n",
              "  </div>\n",
              "  "
            ]
          },
          "metadata": {},
          "execution_count": 577
        }
      ]
    },
    {
      "cell_type": "code",
      "source": [
        "data_withPCA.Nation.unique()"
      ],
      "metadata": {
        "colab": {
          "base_uri": "https://localhost:8080/"
        },
        "id": "lGFOhZ9UfPCT",
        "outputId": "d9a8d7eb-8be5-4853-93e9-d6159faec7ba"
      },
      "execution_count": null,
      "outputs": [
        {
          "output_type": "execute_result",
          "data": {
            "text/plain": [
              "array(['br BRA', 'es ESP', 'it ITA', 'de GER', 'ie IRL', 'fr FRA',\n",
              "       'nl NED', 'ma MAR', 'be BEL', 'dk DEN', 'sn SEN', 'mk MKD',\n",
              "       'pl POL', 'eng ENG', 'fi FIN', 'ch SUI', 'ar ARG', 'pt POR',\n",
              "       'ge GEO', 'rs SRB', 'si SVN', 'cm CMR', 'cz CZE', 'cg CGO',\n",
              "       'ro ROU', 'wls WAL'], dtype=object)"
            ]
          },
          "metadata": {},
          "execution_count": 573
        }
      ]
    },
    {
      "cell_type": "code",
      "source": [],
      "metadata": {
        "id": "SXePq9pMfO_g"
      },
      "execution_count": null,
      "outputs": []
    },
    {
      "cell_type": "code",
      "source": [],
      "metadata": {
        "id": "_ZQNJB0LPpm_"
      },
      "execution_count": null,
      "outputs": []
    },
    {
      "cell_type": "code",
      "source": [],
      "metadata": {
        "id": "E6HCTZ7xPpkO"
      },
      "execution_count": null,
      "outputs": []
    }
  ]
}