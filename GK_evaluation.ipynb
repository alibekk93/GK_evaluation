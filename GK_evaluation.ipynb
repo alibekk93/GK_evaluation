{
  "nbformat": 4,
  "nbformat_minor": 0,
  "metadata": {
    "colab": {
      "provenance": []
    },
    "kernelspec": {
      "name": "python3",
      "display_name": "Python 3"
    },
    "language_info": {
      "name": "python"
    }
  },
  "cells": [
    {
      "cell_type": "markdown",
      "source": [
        "# GK evaluation and visualization"
      ],
      "metadata": {
        "id": "cpSAdRmX3TY7"
      }
    },
    {
      "cell_type": "code",
      "source": [],
      "metadata": {
        "id": "_SCVifcR3S4_"
      },
      "execution_count": null,
      "outputs": []
    },
    {
      "cell_type": "code",
      "execution_count": null,
      "metadata": {
        "id": "pSygK1kD2-BT"
      },
      "outputs": [],
      "source": []
    }
  ]
}